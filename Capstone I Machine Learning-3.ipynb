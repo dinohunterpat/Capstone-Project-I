{
 "cells": [
  {
   "cell_type": "code",
   "execution_count": 1,
   "metadata": {},
   "outputs": [],
   "source": [
    "%store -r Modified_Total\n",
    "%store -r comparison_total"
   ]
  },
  {
   "cell_type": "markdown",
   "metadata": {},
   "source": [
    "## Introduction"
   ]
  },
  {
   "cell_type": "markdown",
   "metadata": {},
   "source": [
    "The machine learning process of the data is comprised of linear regression and R2 analysis. Linear regression offers many advantages like the flexibility in working with smaller datasets, the ability to provide a fitted regression line showing relationship between independent and dependent variables, and the expediency of providing results. This linear regression is used to test whether the independent variables, which are the box office parameters, show correlation with the dependent variable of box office gross. The linear regression module could then be used to generate a linear equation with the box office parameters as variables.\n",
    "\n",
    "After performing linear regression, R2 analysis was used in determining how closely the predicted data points adhere to the fitted regression. The independent and dependent variables are each split into training and testing portions with the training portions becoming fitted to a regressor. The regressor in turn is used for predicting the output dependent variable based test portion of the independent variable. These values are then used for computing R2 score and Residual Mean Square Error (RMSE); an R2 value closer to 1 would indicate close adherence to the fitted regression while a low RMSE score indicates that there is little deviation. R2 means error (RSME) of relatively low value would suggest that the predicted data reliably adheres to the fitted regression pattern."
   ]
  },
  {
   "cell_type": "markdown",
   "metadata": {},
   "source": [
    "## Hypothesis"
   ]
  },
  {
   "cell_type": "markdown",
   "metadata": {},
   "source": [
    "The machine learning processes of linear regression and R^2 analysis will support the trends found in the EDA portions. The EDA show that total gross in China positively correlates with number of tickets sold, number of screens, and number of movies released. In contrast, the total gross in Japan only positively correlates with ticket prices. As such the linear regression models should yield a positive fitted linear regression with the parameters of China's data while yielding an negative fitted linear regression with Japan's data."
   ]
  },
  {
   "cell_type": "code",
   "execution_count": 2,
   "metadata": {},
   "outputs": [],
   "source": [
    "# Import necessary modules\n",
    "import numpy as np\n",
    "import matplotlib.pyplot as plt\n",
    "import pandas as pd\n",
    "from collections import Counter\n",
    "import seaborn as sns\n",
    "import scipy as sp\n",
    "import pandas as pd\n",
    "from sklearn.metrics import mean_squared_error,confusion_matrix, classification_report\n",
    "from sklearn.model_selection import train_test_split,cross_val_score\n",
    "from sklearn.linear_model import LinearRegression,LogisticRegression"
   ]
  },
  {
   "cell_type": "code",
   "execution_count": 3,
   "metadata": {
    "scrolled": true
   },
   "outputs": [],
   "source": [
    "years = Modified_Total['Year']\n",
    "comparison_total['Year']=years\n",
    "cols = list(comparison_total.columns)\n",
    "cols = [cols[-1]] + cols[:-1]\n",
    "total = comparison_total[cols]"
   ]
  },
  {
   "cell_type": "code",
   "execution_count": 4,
   "metadata": {},
   "outputs": [
    {
     "data": {
      "text/html": [
       "<div>\n",
       "<style scoped>\n",
       "    .dataframe tbody tr th:only-of-type {\n",
       "        vertical-align: middle;\n",
       "    }\n",
       "\n",
       "    .dataframe tbody tr th {\n",
       "        vertical-align: top;\n",
       "    }\n",
       "\n",
       "    .dataframe thead th {\n",
       "        text-align: right;\n",
       "    }\n",
       "</style>\n",
       "<table border=\"1\" class=\"dataframe\">\n",
       "  <thead>\n",
       "    <tr style=\"text-align: right;\">\n",
       "      <th></th>\n",
       "      <th>Year</th>\n",
       "      <th>Total Gross in China (Millions USD)</th>\n",
       "      <th>Total Gross in Japan (Millions USD)</th>\n",
       "      <th>Tickets Sold in China (Millions)</th>\n",
       "      <th>Tickets Sold in Japan (Millions)</th>\n",
       "      <th>Number of Screens in China</th>\n",
       "      <th>Number of Screens in Japan</th>\n",
       "      <th>Ticket Price in China (USD)</th>\n",
       "      <th>Ticket Price in Japan (USD)</th>\n",
       "      <th>Movies Released in China</th>\n",
       "      <th>Movies Released in Japan</th>\n",
       "    </tr>\n",
       "  </thead>\n",
       "  <tbody>\n",
       "    <tr>\n",
       "      <th>0</th>\n",
       "      <td>2012</td>\n",
       "      <td>2658.65</td>\n",
       "      <td>2252.89</td>\n",
       "      <td>463.26</td>\n",
       "      <td>155</td>\n",
       "      <td>13118</td>\n",
       "      <td>3290</td>\n",
       "      <td>9.94</td>\n",
       "      <td>17.01</td>\n",
       "      <td>394</td>\n",
       "      <td>983</td>\n",
       "    </tr>\n",
       "    <tr>\n",
       "      <th>1</th>\n",
       "      <td>2013</td>\n",
       "      <td>3549.43</td>\n",
       "      <td>1845.48</td>\n",
       "      <td>614.24</td>\n",
       "      <td>156</td>\n",
       "      <td>18195</td>\n",
       "      <td>3318</td>\n",
       "      <td>9.97</td>\n",
       "      <td>17.74</td>\n",
       "      <td>345</td>\n",
       "      <td>1117</td>\n",
       "    </tr>\n",
       "    <tr>\n",
       "      <th>2</th>\n",
       "      <td>2014</td>\n",
       "      <td>4746.84</td>\n",
       "      <td>1727.44</td>\n",
       "      <td>834.31</td>\n",
       "      <td>161</td>\n",
       "      <td>23592</td>\n",
       "      <td>3364</td>\n",
       "      <td>9.94</td>\n",
       "      <td>16.65</td>\n",
       "      <td>389</td>\n",
       "      <td>1184</td>\n",
       "    </tr>\n",
       "    <tr>\n",
       "      <th>3</th>\n",
       "      <td>2015</td>\n",
       "      <td>6771.67</td>\n",
       "      <td>1805.26</td>\n",
       "      <td>1260.89</td>\n",
       "      <td>167</td>\n",
       "      <td>31627</td>\n",
       "      <td>3437</td>\n",
       "      <td>9.86</td>\n",
       "      <td>16.87</td>\n",
       "      <td>522</td>\n",
       "      <td>1136</td>\n",
       "    </tr>\n",
       "    <tr>\n",
       "      <th>4</th>\n",
       "      <td>2016</td>\n",
       "      <td>6549.70</td>\n",
       "      <td>2013.58</td>\n",
       "      <td>1373.63</td>\n",
       "      <td>180</td>\n",
       "      <td>41056</td>\n",
       "      <td>3472</td>\n",
       "      <td>8.92</td>\n",
       "      <td>17.81</td>\n",
       "      <td>531</td>\n",
       "      <td>1149</td>\n",
       "    </tr>\n",
       "  </tbody>\n",
       "</table>\n",
       "</div>"
      ],
      "text/plain": [
       "   Year  Total Gross in China (Millions USD)  \\\n",
       "0  2012                              2658.65   \n",
       "1  2013                              3549.43   \n",
       "2  2014                              4746.84   \n",
       "3  2015                              6771.67   \n",
       "4  2016                              6549.70   \n",
       "\n",
       "   Total Gross in Japan (Millions USD)  Tickets Sold in China (Millions)  \\\n",
       "0                              2252.89                            463.26   \n",
       "1                              1845.48                            614.24   \n",
       "2                              1727.44                            834.31   \n",
       "3                              1805.26                           1260.89   \n",
       "4                              2013.58                           1373.63   \n",
       "\n",
       "   Tickets Sold in Japan (Millions)  Number of Screens in China  \\\n",
       "0                               155                       13118   \n",
       "1                               156                       18195   \n",
       "2                               161                       23592   \n",
       "3                               167                       31627   \n",
       "4                               180                       41056   \n",
       "\n",
       "   Number of Screens in Japan  Ticket Price in China (USD)  \\\n",
       "0                        3290                         9.94   \n",
       "1                        3318                         9.97   \n",
       "2                        3364                         9.94   \n",
       "3                        3437                         9.86   \n",
       "4                        3472                         8.92   \n",
       "\n",
       "   Ticket Price in Japan (USD)  Movies Released in China  \\\n",
       "0                        17.01                       394   \n",
       "1                        17.74                       345   \n",
       "2                        16.65                       389   \n",
       "3                        16.87                       522   \n",
       "4                        17.81                       531   \n",
       "\n",
       "   Movies Released in Japan  \n",
       "0                       983  \n",
       "1                      1117  \n",
       "2                      1184  \n",
       "3                      1136  \n",
       "4                      1149  "
      ]
     },
     "execution_count": 4,
     "metadata": {},
     "output_type": "execute_result"
    }
   ],
   "source": [
    "total.head()"
   ]
  },
  {
   "cell_type": "code",
   "execution_count": 5,
   "metadata": {
    "scrolled": true
   },
   "outputs": [
    {
     "data": {
      "image/png": "[encoded data removed]",
      "text/plain": [
       "<Figure size 432x288 with 1 Axes>"
      ]
     },
     "metadata": {},
     "output_type": "display_data"
    },
    {
     "name": "stdout",
     "output_type": "stream",
     "text": [
      "The Linear Regression Score: 0.9422062364661908\n",
      "R^2 Value: 0.8364898234685938\n",
      "Root Mean Squared Error: 606.6004630703245\n",
      "Cross Validation Score: -0.11640031965408675\n"
     ]
    }
   ],
   "source": [
    "# Fit and Predict for Regression in China Tickets\n",
    "reg = LinearRegression()\n",
    "\n",
    "y1 = total['Total Gross in China (Millions USD)']\n",
    "X1 = total['Tickets Sold in China (Millions)']\n",
    "y1 = y1.values.reshape(-1,1)\n",
    "X1 = X1.values.reshape(-1,1)\n",
    "\n",
    "prediction_space = np.linspace(min(X1), max(X1)).reshape(-1,1)\n",
    "reg.fit(X1,y1)\n",
    "\n",
    "y_pred = reg.predict(prediction_space)\n",
    "plt.scatter(X1,y1)\n",
    "plt.plot(prediction_space, y_pred, color='black', linewidth=3)\n",
    "plt.xlabel(\"Tickets Sold in China (Millions)\")\n",
    "plt.ylabel(\"Total Gross in China (Millions USD)\")\n",
    "plt.show()\n",
    "\n",
    "# Training and Testing\n",
    "X_train, X_test, y_train, y_test = train_test_split(X1, y1, test_size = 0.3, random_state=42)\n",
    "reg.fit(X_train,y_train)\n",
    "y_pred = reg.predict(X_test)\n",
    "rmse = np.sqrt(mean_squared_error(y_test,y_pred))\n",
    "\n",
    "# Three-Fold Cross-Validation Scores\n",
    "cvscores = cross_val_score(reg, X1, y1, cv = 3)\n",
    "\n",
    "print(\"The Linear Regression Score: {}\".format(reg.score(X1, y1)))\n",
    "print(\"R^2 Value: {}\".format(reg.score(X_test, y_test)))\n",
    "print(\"Root Mean Squared Error: {}\".format(rmse))\n",
    "print(\"Cross Validation Score: {}\".format(np.mean(cvscores)))"
   ]
  },
  {
   "cell_type": "code",
   "execution_count": 9,
   "metadata": {
    "scrolled": false
   },
   "outputs": [
    {
     "data": {
      "image/png": "[encoded data removed]",
      "text/plain": [
       "<Figure size 432x288 with 1 Axes>"
      ]
     },
     "metadata": {},
     "output_type": "display_data"
    },
    {
     "name": "stdout",
     "output_type": "stream",
     "text": [
      "The Linear Regression Score: 0.6195207368841678\n",
      "R^2 Value: -0.09778309450731104\n",
      "Root Mean Squared Error: 1571.768616814136\n",
      "Cross Validation Score: -2.5708029454259185\n"
     ]
    }
   ],
   "source": [
    "# Fit and Predict for Regression in China Screens\n",
    "reg = LinearRegression()\n",
    "\n",
    "y1 = total['Total Gross in China (Millions USD)']\n",
    "X1 = total['Number of Screens in China']\n",
    "y1 = y1.values.reshape(-1,1)\n",
    "X1 = X1.values.reshape(-1,1)\n",
    "\n",
    "prediction_space = np.linspace(min(X1), max(X1)).reshape(-1,1)\n",
    "reg.fit(X1,y1)\n",
    "\n",
    "y_pred = reg.predict(prediction_space)\n",
    "plt.scatter(X1,y1)\n",
    "plt.plot(prediction_space, y_pred, color='black', linewidth=3)\n",
    "plt.xlabel(\"Number of Screens in China\")\n",
    "plt.ylabel(\"Total Gross in China (Millions USD)\")\n",
    "plt.show()\n",
    "\n",
    "# Training and Testing Ticket\n",
    "X_train, X_test, y_train, y_test = train_test_split(X1, y1, test_size = 0.3, random_state=42)\n",
    "reg.fit(X_train,y_train)\n",
    "y_pred = reg.predict(X_test)\n",
    "rmse = np.sqrt(mean_squared_error(y_test,y_pred))\n",
    "\n",
    "# Three-Fold Cross-Validation Scores\n",
    "cvscores = cross_val_score(reg, X1, y1, cv = 3)\n",
    "\n",
    "print(\"The Linear Regression Score: {}\".format(reg.score(X1, y1)))\n",
    "print(\"R^2 Value: {}\".format(reg.score(X_test, y_test)))\n",
    "print(\"Root Mean Squared Error: {}\".format(rmse))\n",
    "print(\"Cross Validation Score: {}\".format(np.mean(cvscores)))"
   ]
  },
  {
   "cell_type": "code",
   "execution_count": 10,
   "metadata": {
    "scrolled": true
   },
   "outputs": [
    {
     "data": {
      "image/png": "[encoded data removed]",
      "text/plain": [
       "<Figure size 432x288 with 1 Axes>"
      ]
     },
     "metadata": {},
     "output_type": "display_data"
    },
    {
     "name": "stdout",
     "output_type": "stream",
     "text": [
      "The Linear Regression Score: -99.83812274525361\n",
      "R^2 Value: -291.69551086446387\n",
      "Root Mean Squared Error: 25664.828977831112\n",
      "Cross Validation Score: -12.967195226652656\n"
     ]
    }
   ],
   "source": [
    "# Fit and Predict for Regression in China Ticket Prices\n",
    "reg = LinearRegression()\n",
    "\n",
    "y1 = total['Total Gross in China (Millions USD)']\n",
    "X1 = total['Ticket Price in China (USD)']\n",
    "y1 = y1.values.reshape(-1,1)\n",
    "X1 = X1.values.reshape(-1,1)\n",
    "\n",
    "prediction_space = np.linspace(min(X1), max(X1)).reshape(-1,1)\n",
    "reg.fit(X1,y1)\n",
    "\n",
    "y_pred = reg.predict(prediction_space)\n",
    "plt.scatter(X1,y1)\n",
    "plt.plot(prediction_space, y_pred, color='black', linewidth=3)\n",
    "plt.xlabel(\"Ticket Price in China (USD)\")\n",
    "plt.ylabel(\"Total Gross in China (Millions USD)\")\n",
    "plt.show()\n",
    "\n",
    "# Training and Testing Ticket\n",
    "X_train, X_test, y_train, y_test = train_test_split(X1, y1, test_size = 0.3, random_state=42)\n",
    "reg.fit(X_train,y_train)\n",
    "y_pred = reg.predict(X_test)\n",
    "rmse = np.sqrt(mean_squared_error(y_test,y_pred))\n",
    "\n",
    "# Three-Fold Cross-Validation Scores\n",
    "cvscores = cross_val_score(reg, X1, y1, cv = 3)\n",
    "\n",
    "print(\"The Linear Regression Score: {}\".format(reg.score(X1, y1)))\n",
    "print(\"R^2 Value: {}\".format(reg.score(X_test, y_test)))\n",
    "print(\"Root Mean Squared Error: {}\".format(rmse))\n",
    "print(\"Cross Validation Score: {}\".format(np.mean(cvscores)))"
   ]
  },
  {
   "cell_type": "code",
   "execution_count": 11,
   "metadata": {
    "scrolled": true
   },
   "outputs": [
    {
     "data": {
      "image/png": "[encoded data removed]",
      "text/plain": [
       "<Figure size 432x288 with 1 Axes>"
      ]
     },
     "metadata": {},
     "output_type": "display_data"
    },
    {
     "name": "stdout",
     "output_type": "stream",
     "text": [
      "The Linear Regression Score: 0.7414266728915307\n",
      "R^2 Value: 0.7881280511994099\n",
      "Root Mean Squared Error: 690.5053923047656\n",
      "Cross Validation Score: -3.8714301453297346\n"
     ]
    }
   ],
   "source": [
    "# Fit and Predict for Regression in China Movie releases\n",
    "reg = LinearRegression()\n",
    "\n",
    "y1 = total['Total Gross in China (Millions USD)']\n",
    "X1 = total['Movies Released in China']\n",
    "y1 = y1.values.reshape(-1,1)\n",
    "X1 = X1.values.reshape(-1,1)\n",
    "\n",
    "prediction_space = np.linspace(min(X1), max(X1)).reshape(-1,1)\n",
    "reg.fit(X1,y1)\n",
    "\n",
    "y_pred = reg.predict(prediction_space)\n",
    "plt.scatter(X1,y1)\n",
    "plt.plot(prediction_space, y_pred, color='black', linewidth=3)\n",
    "plt.xlabel(\"Movies Released in China\")\n",
    "plt.ylabel(\"Total Gross in China (Millions USD)\")\n",
    "plt.show()\n",
    "\n",
    "# Training and Testing Ticket\n",
    "X_train, X_test, y_train, y_test = train_test_split(X1, y1, test_size = 0.3, random_state=42)\n",
    "reg.fit(X_train,y_train)\n",
    "y_pred = reg.predict(X_test)\n",
    "rmse = np.sqrt(mean_squared_error(y_test,y_pred))\n",
    "\n",
    "# Three-Fold Cross-Validation Scores\n",
    "cvscores = cross_val_score(reg, X1, y1, cv = 3)\n",
    "\n",
    "print(\"The Linear Regression Score: {}\".format(reg.score(X1, y1)))\n",
    "print(\"R^2 Value: {}\".format(reg.score(X_test, y_test)))\n",
    "print(\"Root Mean Squared Error: {}\".format(rmse))\n",
    "print(\"Cross Validation Score: {}\".format(np.mean(cvscores)))"
   ]
  },
  {
   "cell_type": "code",
   "execution_count": 12,
   "metadata": {
    "scrolled": true
   },
   "outputs": [
    {
     "data": {
      "image/png": "[encoded data removed]",
      "text/plain": [
       "<Figure size 432x288 with 1 Axes>"
      ]
     },
     "metadata": {},
     "output_type": "display_data"
    },
    {
     "name": "stdout",
     "output_type": "stream",
     "text": [
      "The Linear Regression Score: -3.363176836538384\n",
      "R^2 Value: -48.74082467784784\n",
      "Root Mean Squared Error: 592.7809091108195\n",
      "Cross Validation Score: -17.577592850648017\n"
     ]
    }
   ],
   "source": [
    "# Fit and Predict for Ticket Sold Japan\n",
    "reg = LinearRegression()\n",
    "\n",
    "y1 = total['Total Gross in Japan (Millions USD)']\n",
    "X1 = total['Tickets Sold in Japan (Millions)']\n",
    "y1 = y1.values.reshape(-1,1)\n",
    "X1 = X1.values.reshape(-1,1)\n",
    "\n",
    "prediction_space = np.linspace(min(X1), max(X1)).reshape(-1,1)\n",
    "reg.fit(X1,y1)\n",
    "\n",
    "y_pred = reg.predict(prediction_space)\n",
    "plt.scatter(X1,y1)\n",
    "plt.plot(prediction_space, y_pred, color='black', linewidth=3)\n",
    "plt.xlabel(\"Movies Released in Japan\")\n",
    "plt.ylabel(\"Total Gross in Japan (Millions USD)\")\n",
    "plt.show()\n",
    "\n",
    "\n",
    "# Training and Testing\n",
    "X_train, X_test, y_train, y_test = train_test_split(X1, y1, test_size = 0.3, random_state=42)\n",
    "reg.fit(X_train,y_train)\n",
    "y_pred = reg.predict(X_test)\n",
    "rmse = np.sqrt(mean_squared_error(y_test,y_pred))\n",
    "\n",
    "# Three-Fold Cross-Validation Scores\n",
    "cvscores = cross_val_score(reg, X1, y1, cv = 3)\n",
    "\n",
    "print(\"The Linear Regression Score: {}\".format(reg.score(X1, y1)))\n",
    "print(\"R^2 Value: {}\".format(reg.score(X_test, y_test)))\n",
    "print(\"Root Mean Squared Error: {}\".format(rmse))\n",
    "print(\"Cross Validation Score: {}\".format(np.mean(cvscores)))"
   ]
  },
  {
   "cell_type": "code",
   "execution_count": 13,
   "metadata": {},
   "outputs": [
    {
     "data": {
      "image/png": "[encoded data removed]",
      "text/plain": [
       "<Figure size 432x288 with 1 Axes>"
      ]
     },
     "metadata": {},
     "output_type": "display_data"
    },
    {
     "name": "stdout",
     "output_type": "stream",
     "text": [
      "The Linear Regression Score: -0.6149437111827747\n",
      "R^2 Value: -14.749812076815635\n",
      "Root Mean Squared Error: 333.5611065606817\n",
      "Cross Validation Score: -16.259412952762855\n"
     ]
    }
   ],
   "source": [
    "# Fit and Predict for Number of Screens in Japan\n",
    "reg = LinearRegression()\n",
    "\n",
    "y1 = total['Total Gross in Japan (Millions USD)']\n",
    "X1 = total['Number of Screens in Japan']\n",
    "y1 = y1.values.reshape(-1,1)\n",
    "X1 = X1.values.reshape(-1,1)\n",
    "\n",
    "prediction_space = np.linspace(min(X1), max(X1)).reshape(-1,1)\n",
    "reg.fit(X1,y1)\n",
    "\n",
    "y_pred = reg.predict(prediction_space)\n",
    "plt.scatter(X1,y1)\n",
    "plt.plot(prediction_space, y_pred, color='black', linewidth=3)\n",
    "plt.xlabel(\"Movies Released in Japan\")\n",
    "plt.ylabel(\"Total Gross in Japan (Millions USD)\")\n",
    "plt.show()\n",
    "\n",
    "# Training and Testing\n",
    "X_train, X_test, y_train, y_test = train_test_split(X1, y1, test_size = 0.3, random_state=42)\n",
    "reg.fit(X_train,y_train)\n",
    "y_pred = reg.predict(X_test)\n",
    "rmse = np.sqrt(mean_squared_error(y_test,y_pred))\n",
    "\n",
    "# Three-Fold Cross-Validation Scores\n",
    "cvscores = cross_val_score(reg, X1, y1, cv = 3)\n",
    "\n",
    "print(\"The Linear Regression Score: {}\".format(reg.score(X1, y1)))\n",
    "print(\"R^2 Value: {}\".format(reg.score(X_test, y_test)))\n",
    "print(\"Root Mean Squared Error: {}\".format(rmse))\n",
    "print(\"Cross Validation Score: {}\".format(np.mean(cvscores)))"
   ]
  },
  {
   "cell_type": "code",
   "execution_count": 14,
   "metadata": {
    "scrolled": true
   },
   "outputs": [
    {
     "data": {
      "image/png": "[encoded data removed]",
      "text/plain": [
       "<Figure size 432x288 with 1 Axes>"
      ]
     },
     "metadata": {},
     "output_type": "display_data"
    },
    {
     "name": "stdout",
     "output_type": "stream",
     "text": [
      "The Linear Regression Score: -17.588380586793598\n",
      "R^2 Value: -226.4521765642944\n",
      "Root Mean Squared Error: 1267.6015638800866\n",
      "Cross Validation Score: -75.46198533463092\n"
     ]
    }
   ],
   "source": [
    "# Fit and Predict for Ticket Price in Japan\n",
    "reg = LinearRegression()\n",
    "\n",
    "y1 = total['Total Gross in Japan (Millions USD)']\n",
    "X1 = total['Ticket Price in Japan (USD)']\n",
    "y1 = y1.values.reshape(-1,1)\n",
    "X1 = X1.values.reshape(-1,1)\n",
    "\n",
    "prediction_space = np.linspace(min(X1), max(X1)).reshape(-1,1)\n",
    "reg.fit(X1,y1)\n",
    "\n",
    "y_pred = reg.predict(prediction_space)\n",
    "plt.scatter(X1,y1)\n",
    "plt.plot(prediction_space, y_pred, color='black', linewidth=3)\n",
    "plt.xlabel(\"Movies Released in Japan\")\n",
    "plt.ylabel(\"Total Gross in Japan (Millions USD)\")\n",
    "plt.show()\n",
    "\n",
    "\n",
    "# Training and Testing\n",
    "X_train, X_test, y_train, y_test = train_test_split(X1, y1, test_size = 0.3, random_state=42)\n",
    "reg.fit(X_train,y_train)\n",
    "y_pred = reg.predict(X_test)\n",
    "rmse = np.sqrt(mean_squared_error(y_test,y_pred))\n",
    "\n",
    "# Three-Fold Cross-Validation Scores\n",
    "cvscores = cross_val_score(reg, X1, y1, cv = 3)\n",
    "\n",
    "print(\"The Linear Regression Score: {}\".format(reg.score(X1, y1)))\n",
    "print(\"R^2 Value: {}\".format(reg.score(X_test, y_test)))\n",
    "print(\"Root Mean Squared Error: {}\".format(rmse))\n",
    "print(\"Cross Validation Score: {}\".format(np.mean(cvscores)))"
   ]
  },
  {
   "cell_type": "code",
   "execution_count": 15,
   "metadata": {
    "scrolled": true
   },
   "outputs": [
    {
     "data": {
      "image/png": "[encoded data removed]",
      "text/plain": [
       "<Figure size 432x288 with 1 Axes>"
      ]
     },
     "metadata": {},
     "output_type": "display_data"
    },
    {
     "name": "stdout",
     "output_type": "stream",
     "text": [
      "The Linear Regression Score: 0.7207828378038779\n",
      "R^2 Value: -2.3595991987850384\n",
      "Root Mean Squared Error: 154.057005614464\n",
      "Cross Validation Score: -2.8288964718060927\n"
     ]
    }
   ],
   "source": [
    "# Fit and Predict for Movies Released in Japan\n",
    "reg = LinearRegression()\n",
    "\n",
    "y1 = total['Total Gross in Japan (Millions USD)']\n",
    "X1 = total['Movies Released in Japan']\n",
    "y1 = y1.values.reshape(-1,1)\n",
    "X1 = X1.values.reshape(-1,1)\n",
    "\n",
    "prediction_space = np.linspace(min(X1), max(X1)).reshape(-1,1)\n",
    "reg.fit(X1,y1)\n",
    "\n",
    "y_pred = reg.predict(prediction_space)\n",
    "plt.scatter(X1,y1)\n",
    "plt.plot(prediction_space, y_pred, color='black', linewidth=3)\n",
    "plt.xlabel(\"Movies Released in Japan\")\n",
    "plt.ylabel(\"Total Gross in Japan (Millions USD)\")\n",
    "plt.show()\n",
    "\n",
    "# Training and Testing Movies Released in Japan\n",
    "X_train, X_test, y_train, y_test = train_test_split(X1, y1, test_size = 0.3, random_state=42)\n",
    "reg.fit(X_train,y_train)\n",
    "y_pred = reg.predict(X_test)\n",
    "rmse = np.sqrt(mean_squared_error(y_test,y_pred))\n",
    "\n",
    "# Three-Fold Cross-Validation Scores\n",
    "cvscores = cross_val_score(reg, X1, y1, cv = 3)\n",
    "\n",
    "print(\"The Linear Regression Score: {}\".format(reg.score(X1, y1)))\n",
    "print(\"R^2 Value: {}\".format(reg.score(X_test, y_test)))\n",
    "print(\"Root Mean Squared Error: {}\".format(rmse))\n",
    "print(\"Cross Validation Score: {}\".format(np.mean(cvscores)))"
   ]
  },
  {
   "cell_type": "code",
   "execution_count": 24,
   "metadata": {
    "scrolled": false
   },
   "outputs": [
    {
     "name": "stdout",
     "output_type": "stream",
     "text": [
      "Intercept: -549.272653986859\n",
      "Coefficients: [ 1.54676735e+00  1.45282879e-01 -8.68925162e-04  1.48618030e+00]\n",
      "R^2 Value: 0.29634059142470714\n",
      "Root Mean Squared Error: 1258.3793800675037\n",
      "Cross Validation Score: -2.8288964718060927\n"
     ]
    }
   ],
   "source": [
    "# Total China\n",
    "X_China = total[['Tickets Sold in China (Millions)','Number of Screens in China',\n",
    "                 'Ticket Price in China (USD)','Movies Released in China']]\n",
    "y_China = total['Total Gross in China (Millions USD)']\n",
    "reg = LinearRegression()\n",
    "\n",
    "# Training and Testing\n",
    "X_train, X_test, y_train, y_test = train_test_split(X_China, y_China, test_size = 0.3, random_state=42)\n",
    "reg.fit(X_train,y_train)\n",
    "print(\"Intercept: {}\".format(reg.intercept_))\n",
    "print(\"Coefficients: {}\".format(reg.coef_))\n",
    "y_pred = reg.predict(X_test)\n",
    "rmse = np.sqrt(mean_squared_error(y_test,y_pred))\n",
    "\n",
    "\n",
    "# Three-Fold Cross-Validation Scores\n",
    "cvscores = cross_val_score(reg, X1, y1, cv = 3)\n",
    "\n",
    "print(\"R^2 Value: {}\".format(reg.score(X_test, y_test)))\n",
    "print(\"Root Mean Squared Error: {}\".format(rmse))\n",
    "print(\"Cross Validation Score: {}\".format(np.mean(cvscores)))"
   ]
  },
  {
   "cell_type": "markdown",
   "metadata": {},
   "source": [
    "China Box Office\n",
    "\n",
    "*Total Gross* = 1.5468 x *Tickets Sold (Millions)* + 0.1453 x *Number of Screens* - 0.0009 x *Ticket Price (USD)* + 1.4862 *Movies Released* - 549.2727"
   ]
  },
  {
   "cell_type": "code",
   "execution_count": 25,
   "metadata": {
    "scrolled": false
   },
   "outputs": [
    {
     "name": "stdout",
     "output_type": "stream",
     "text": [
      "Intercept: 6356.877350972771\n",
      "Coefficients: [-0.04201082 -0.52220287  0.00488095 -2.42066251]\n",
      "R^2 Value: -4.064383860960382\n",
      "Root Mean Squared Error: 4626.958841400355\n",
      "Cross Validation Score: -3.4287521541546337\n"
     ]
    }
   ],
   "source": [
    "# Total Japan\n",
    "X_Japan = total[['Tickets Sold in Japan (Millions)',\n",
    "'Number of Screens in Japan','Ticket Price in Japan (USD)',\n",
    "'Movies Released in Japan']]\n",
    "y_Japan = total['Total Gross in Japan (Millions USD)'] \n",
    "reg = LinearRegression()\n",
    "\n",
    "# Training and Testing\n",
    "X_train, X_test, y_train, y_test = train_test_split(X_Japan, y_Japan, random_state=42)\n",
    "reg.fit(X_train,y_train)\n",
    "print(\"Intercept: {}\".format(reg.intercept_))\n",
    "print(\"Coefficients: {}\".format(reg.coef_))\n",
    "\n",
    "cvscores = cross_val_score(reg, X_Japan, y_Japan, cv = 3)\n",
    "rmse = np.sqrt(mean_squared_error(y_test,y_pred))\n",
    "\n",
    "#print(\"The Linear Regression Score: {}\".format(reg.score(X1, y1)))\n",
    "print(\"R^2 Value: {}\".format(reg.score(X_test, y_test)))\n",
    "print(\"Root Mean Squared Error: {}\".format(rmse))\n",
    "print(\"Cross Validation Score: {}\".format(np.mean(cvscores)))"
   ]
  },
  {
   "cell_type": "markdown",
   "metadata": {},
   "source": [
    "Japan Box Office\n",
    "\n",
    "*Total Gross* = -0.0420 x *Tickets Sold (Millions)* - 0.5222 x *Number of Screens* + 0.0049 x *Ticket Price (USD)* - 2.4207 *Movies Released in Japan* - 6356.8774"
   ]
  },
  {
   "cell_type": "markdown",
   "metadata": {},
   "source": [
    "## Results and Summary"
   ]
  },
  {
   "cell_type": "markdown",
   "metadata": {},
   "source": [
    "For the machine learning portion, linear regression was performed on individual and aggragrate parameters for both countries. Regression for individual parameters seem to confirm that the number of tickets sold, number of screens, and number of movies released correlate with a positive increase in box office in China. Conversely, ticket price seems to induce a decrease in box office. Aggregate regression for China's parameters show that the positive parameters increase with box office while negative parameter (ticket price) decreases with box office. Conversely, for Japan, both the individual and aggregate regression show that the number of tickets sold, number of screens, and number of movies released decreases with box office while ticket prices increases with box office. The linear equation for each country's box office, which are calculated from the coefficients of the aggregate regression, show the hypothetical box office yields.\n",
    "\n",
    "To determine the reliability of the linear regression, root mean square error (RMSE) was used in aggregate linear regression. The RMSE would determine the degree by which the residual of predicted values would differ from the main regression. The RMSE for China's aggregate box office was 1258.38 while the RMSE for Japan's was 4626.96. While the RMSE values are relatively large and a smaller one would've been more preferable, these RMSE values are chosen as a smaller values would've lead to overfitting and skewed coefficients. Since the Japan's RMSE is larger than China's, it would suggest that the machine learning for the China data is more reliable.\n"
   ]
  },
  {
   "cell_type": "code",
   "execution_count": null,
   "metadata": {},
   "outputs": [],
   "source": []
  }
 ],
 "metadata": {
  "kernelspec": {
   "display_name": "Python 3",
   "language": "python",
   "name": "python3"
  },
  "language_info": {
   "codemirror_mode": {
    "name": "ipython",
    "version": 3
   },
   "file_extension": ".py",
   "mimetype": "text/x-python",
   "name": "python",
   "nbconvert_exporter": "python",
   "pygments_lexer": "ipython3",
   "version": "3.6.5"
  }
 },
 "nbformat": 4,
 "nbformat_minor": 2
}
